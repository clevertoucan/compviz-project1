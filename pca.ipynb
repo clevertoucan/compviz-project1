{
 "cells": [
  {
   "cell_type": "code",
   "execution_count": 1,
   "metadata": {},
   "outputs": [],
   "source": [
    "import numpy as np, seaborn as sns, pandas as pd\n",
    "from matplotlib import pyplot as plt\n",
    "import matplotlib.image as img\n",
    "import glob"
   ]
  },
  {
   "cell_type": "markdown",
   "metadata": {},
   "source": [
    "Step 1: Obtain face images I1, I2, ..., IM (training faces)\n",
    "\n",
    "Step 2: Represent each image as a vector."
   ]
  },
  {
   "cell_type": "code",
   "execution_count": 2,
   "metadata": {},
   "outputs": [
    {
     "data": {
      "text/plain": [
       "array([[130, 128, 127, ..., 129, 129, 129],\n",
       "       [133, 124, 129, ..., 130, 130, 130],\n",
       "       [127, 129, 133, ..., 129, 129, 129],\n",
       "       ...,\n",
       "       [129, 129, 130, ..., 128, 128, 128],\n",
       "       [129, 128, 129, ..., 129, 129, 129],\n",
       "       [129, 129, 129, ..., 129, 129, 129]], dtype=uint8)"
      ]
     },
     "execution_count": 2,
     "metadata": {},
     "output_type": "execute_result"
    }
   ],
   "source": [
    "path = r'./Train1' # use your path\n",
    "all_images = glob.glob(path + \"/*.jpg\")\n",
    "\n",
    "A = []\n",
    "\n",
    "for image in all_images:\n",
    "    arr = img.imread(image).flatten()\n",
    "    A.append(arr)\n",
    "    \n",
    "A = np.asarray(A)\n",
    "A"
   ]
  },
  {
   "cell_type": "markdown",
   "metadata": {},
   "source": [
    "Step 3: Compute the average face vector Ψ"
   ]
  },
  {
   "cell_type": "code",
   "execution_count": 3,
   "metadata": {},
   "outputs": [
    {
     "data": {
      "text/plain": [
       "array([129.04931071, 130.16675504, 129.71182397, ..., 129.21818664,\n",
       "       129.21818664, 129.21818664])"
      ]
     },
     "execution_count": 3,
     "metadata": {},
     "output_type": "execute_result"
    }
   ],
   "source": [
    "mean_vector = np.mean(A, axis=0, dtype = np.float64)\n",
    "mean_vector"
   ]
  },
  {
   "cell_type": "markdown",
   "metadata": {},
   "source": [
    "Step 4: Subtract the mean face."
   ]
  },
  {
   "cell_type": "code",
   "execution_count": 4,
   "metadata": {},
   "outputs": [
    {
     "data": {
      "text/plain": [
       "array([[ 0.95068929, -2.16675504, -2.71182397, ..., -0.21818664,\n",
       "        -0.21818664, -0.21818664],\n",
       "       [ 3.95068929, -6.16675504, -0.71182397, ...,  0.78181336,\n",
       "         0.78181336,  0.78181336],\n",
       "       [-2.04931071, -1.16675504,  3.28817603, ..., -0.21818664,\n",
       "        -0.21818664, -0.21818664],\n",
       "       ...,\n",
       "       [-0.04931071, -1.16675504,  0.28817603, ..., -1.21818664,\n",
       "        -1.21818664, -1.21818664],\n",
       "       [-0.04931071, -2.16675504, -0.71182397, ..., -0.21818664,\n",
       "        -0.21818664, -0.21818664],\n",
       "       [-0.04931071, -1.16675504, -0.71182397, ..., -0.21818664,\n",
       "        -0.21818664, -0.21818664]])"
      ]
     },
     "execution_count": 4,
     "metadata": {},
     "output_type": "execute_result"
    }
   ],
   "source": [
    "A = np.subtract(A, mean_vector)\n",
    "A"
   ]
  },
  {
   "cell_type": "markdown",
   "metadata": {},
   "source": [
    "Step 6: Get M best eigenvalues and eigenvectors of A * A^T"
   ]
  },
  {
   "cell_type": "code",
   "execution_count": 5,
   "metadata": {},
   "outputs": [],
   "source": [
    "A = A.T #redefine each image within the column\n",
    "eig_vals, eig_vects = np.linalg.eig(np.matmul(A.T, A))"
   ]
  },
  {
   "cell_type": "markdown",
   "metadata": {},
   "source": [
    "Step 7: Get K best eigenvalues and eigenvectors.\n",
    "For future people, each row corresponds to an eigenvector and its' eigenvalue at the end."
   ]
  },
  {
   "cell_type": "code",
   "execution_count": 6,
   "metadata": {
    "scrolled": true
   },
   "outputs": [],
   "source": [
    "#this is our K-value\n",
    "K = 20\n",
    "\n",
    "test = pd.DataFrame(eig_vects.T)\n",
    "test2 = pd.Series(eig_vals)\n",
    "test['Eigenvalues'] = test2\n",
    "\n",
    "result = test.nlargest(K, ['Eigenvalues'], keep='first')"
   ]
  }
 ],
 "metadata": {
  "kernelspec": {
   "display_name": "Python 3",
   "language": "python",
   "name": "python3"
  },
  "language_info": {
   "codemirror_mode": {
    "name": "ipython",
    "version": 3
   },
   "file_extension": ".py",
   "mimetype": "text/x-python",
   "name": "python",
   "nbconvert_exporter": "python",
   "pygments_lexer": "ipython3",
   "version": "3.7.3"
  }
 },
 "nbformat": 4,
 "nbformat_minor": 2
}
