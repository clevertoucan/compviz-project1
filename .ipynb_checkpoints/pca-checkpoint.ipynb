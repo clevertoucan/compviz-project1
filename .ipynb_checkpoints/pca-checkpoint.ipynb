{
 "cells": [
  {
   "cell_type": "code",
   "execution_count": 1,
   "metadata": {},
   "outputs": [
    {
     "ename": "ImportError",
     "evalue": "No module named seaborn",
     "output_type": "error",
     "traceback": [
      "\u001b[0;31m---------------------------------------------------------------------------\u001b[0m",
      "\u001b[0;31mImportError\u001b[0m                               Traceback (most recent call last)",
      "\u001b[0;32m<ipython-input-1-f19058811187>\u001b[0m in \u001b[0;36m<module>\u001b[0;34m()\u001b[0m\n\u001b[0;32m----> 1\u001b[0;31m \u001b[0;32mimport\u001b[0m \u001b[0mnumpy\u001b[0m \u001b[0;32mas\u001b[0m \u001b[0mnp\u001b[0m\u001b[0;34m,\u001b[0m \u001b[0mseaborn\u001b[0m \u001b[0;32mas\u001b[0m \u001b[0msns\u001b[0m\u001b[0;34m,\u001b[0m \u001b[0mpandas\u001b[0m \u001b[0;32mas\u001b[0m \u001b[0mpd\u001b[0m\u001b[0;34m\u001b[0m\u001b[0m\n\u001b[0m\u001b[1;32m      2\u001b[0m \u001b[0;32mfrom\u001b[0m \u001b[0mmatplotlib\u001b[0m \u001b[0;32mimport\u001b[0m \u001b[0mpyplot\u001b[0m \u001b[0;32mas\u001b[0m \u001b[0mplt\u001b[0m\u001b[0;34m\u001b[0m\u001b[0m\n\u001b[1;32m      3\u001b[0m \u001b[0;32mimport\u001b[0m \u001b[0mmatplotlib\u001b[0m\u001b[0;34m.\u001b[0m\u001b[0mimage\u001b[0m \u001b[0;32mas\u001b[0m \u001b[0mimg\u001b[0m\u001b[0;34m\u001b[0m\u001b[0m\n\u001b[1;32m      4\u001b[0m \u001b[0;32mimport\u001b[0m \u001b[0mglob\u001b[0m\u001b[0;34m\u001b[0m\u001b[0m\n",
      "\u001b[0;31mImportError\u001b[0m: No module named seaborn"
     ]
    }
   ],
   "source": [
    "import numpy as np, seaborn as sns, pandas as pd\n",
    "from matplotlib import pyplot as plt\n",
    "import matplotlib.image as img\n",
    "import glob"
   ]
  },
  {
   "cell_type": "markdown",
   "metadata": {},
   "source": [
    "Step 1: Obtain face images I1, I2, ..., IM (training faces)\n",
    "\n",
    "Step 2: Represent each image as a vector."
   ]
  },
  {
   "cell_type": "code",
   "execution_count": 2,
   "metadata": {},
   "outputs": [
    {
     "data": {
      "text/plain": [
       "array([[130, 128, 127, ..., 129, 129, 129],\n",
       "       [133, 124, 129, ..., 130, 130, 130],\n",
       "       [127, 129, 133, ..., 129, 129, 129],\n",
       "       ...,\n",
       "       [129, 129, 130, ..., 128, 128, 128],\n",
       "       [129, 128, 129, ..., 129, 129, 129],\n",
       "       [129, 129, 129, ..., 129, 129, 129]], dtype=uint8)"
      ]
     },
     "execution_count": 2,
     "metadata": {},
     "output_type": "execute_result"
    }
   ],
   "source": [
    "path = r'./Train1' # use your path\n",
    "all_images = glob.glob(path + \"/*.jpg\")\n",
    "\n",
    "A = []\n",
    "\n",
    "for image in all_images:\n",
    "    arr = img.imread(image).flatten()\n",
    "    A.append(arr)\n",
    "    \n",
    "A = np.asarray(A)\n",
    "A"
   ]
  },
  {
   "cell_type": "markdown",
   "metadata": {},
   "source": [
    "Step 3: Compute the average face vector Ψ"
   ]
  },
  {
   "cell_type": "code",
   "execution_count": 3,
   "metadata": {},
   "outputs": [
    {
     "data": {
      "text/plain": [
       "array([129.04931071, 130.16675504, 129.71182397, ..., 129.21818664,\n",
       "       129.21818664, 129.21818664])"
      ]
     },
     "execution_count": 3,
     "metadata": {},
     "output_type": "execute_result"
    }
   ],
   "source": [
    "mean_vector = np.mean(A, axis=0, dtype = np.float64)\n",
    "mean_vector"
   ]
  },
  {
   "cell_type": "markdown",
   "metadata": {},
   "source": [
    "Step 4: Subtract the mean face."
   ]
  },
  {
   "cell_type": "code",
   "execution_count": 4,
   "metadata": {},
   "outputs": [
    {
     "data": {
      "text/plain": [
       "array([[ 0.95068929, -2.16675504, -2.71182397, ..., -0.21818664,\n",
       "        -0.21818664, -0.21818664],\n",
       "       [ 3.95068929, -6.16675504, -0.71182397, ...,  0.78181336,\n",
       "         0.78181336,  0.78181336],\n",
       "       [-2.04931071, -1.16675504,  3.28817603, ..., -0.21818664,\n",
       "        -0.21818664, -0.21818664],\n",
       "       ...,\n",
       "       [-0.04931071, -1.16675504,  0.28817603, ..., -1.21818664,\n",
       "        -1.21818664, -1.21818664],\n",
       "       [-0.04931071, -2.16675504, -0.71182397, ..., -0.21818664,\n",
       "        -0.21818664, -0.21818664],\n",
       "       [-0.04931071, -1.16675504, -0.71182397, ..., -0.21818664,\n",
       "        -0.21818664, -0.21818664]])"
      ]
     },
     "execution_count": 4,
     "metadata": {},
     "output_type": "execute_result"
    }
   ],
   "source": [
    "A = np.subtract(A, mean_vector)\n",
    "A"
   ]
  },
  {
   "cell_type": "markdown",
   "metadata": {},
   "source": [
    "Step 6: Get M best eigenvalues and eigenvectors of A * A^T"
   ]
  },
  {
   "cell_type": "code",
   "execution_count": 5,
   "metadata": {},
   "outputs": [],
   "source": [
    "A = A.T #redefine each image within the column\n",
    "eig_vals, eig_vects = np.linalg.eig(np.matmul(A.T, A))"
   ]
  },
  {
   "cell_type": "markdown",
   "metadata": {},
   "source": [
    "Step 7: Get K best eigenvalues and eigenvectors.\n",
    "For future people, each row corresponds to an eigenvector and its' eigenvalue at the end."
   ]
  },
  {
   "cell_type": "code",
   "execution_count": 6,
   "metadata": {
    "scrolled": true
   },
   "outputs": [],
   "source": [
    "#this is our K-value\n",
    "k = 20\n",
    "test = pd.DataFrame(eig_vects.T)\n",
    "test2 = pd.Series(eig_vals)\n",
    "test['Eigenvalues'] = test2\n",
    "result = test.nlargest(k, ['Eigenvalues'], keep='first')\n",
    "result = np.asarray(result)\n",
    "#converting the 20 A_TA eigenvectors into AA_T eigenvectors \n",
    "eigenspace = []\n",
    "for i in range(0, k):\n",
    "    x = result[i][0:-1]\n",
    "    x = np.matmul(A, x)\n",
    "    eigenspace.append(x)"
   ]
  },
  {
   "cell_type": "markdown",
   "metadata": {},
   "source": [
    "Now on to facial recognition, first we obtain sigma vectors for each of the training images"
   ]
  },
  {
   "cell_type": "code",
   "execution_count": 7,
   "metadata": {},
   "outputs": [],
   "source": [
    "#The sigma values are each of the training images projected into the eigenspace\n",
    "projections = []\n",
    "for image in all_images:\n",
    "    arr = img.imread(image).flatten()\n",
    "    phi = arr - mean_vector\n",
    "    sigma = []\n",
    "    for i in range(0, k):\n",
    "        w = np.matmul(np.transpose(eigenspace[i]), phi)\n",
    "        sigma.append(w)\n",
    "    projections.append(sigma)"
   ]
  },
  {
   "cell_type": "markdown",
   "metadata": {},
   "source": [
    "Now we obtain sigma vectors for each of the test images, and compare them"
   ]
  },
  {
   "cell_type": "code",
   "execution_count": 2,
   "metadata": {},
   "outputs": [
    {
     "ename": "NameError",
     "evalue": "name 'all_images' is not defined",
     "output_type": "error",
     "traceback": [
      "\u001b[0;31m---------------------------------------------------------------------------\u001b[0m",
      "\u001b[0;31mNameError\u001b[0m                                 Traceback (most recent call last)",
      "\u001b[0;32m<ipython-input-2-d0286923a143>\u001b[0m in \u001b[0;36m<module>\u001b[0;34m()\u001b[0m\n\u001b[1;32m      1\u001b[0m \u001b[0;34m\u001b[0m\u001b[0m\n\u001b[1;32m      2\u001b[0m \u001b[0mprojections\u001b[0m \u001b[0;34m=\u001b[0m \u001b[0;34m[\u001b[0m\u001b[0;34m]\u001b[0m\u001b[0;34m\u001b[0m\u001b[0m\n\u001b[0;32m----> 3\u001b[0;31m \u001b[0;32mfor\u001b[0m \u001b[0mimage\u001b[0m \u001b[0;32min\u001b[0m \u001b[0mall_images\u001b[0m\u001b[0;34m:\u001b[0m\u001b[0;34m\u001b[0m\u001b[0m\n\u001b[0m\u001b[1;32m      4\u001b[0m     \u001b[0marr\u001b[0m \u001b[0;34m=\u001b[0m \u001b[0mimg\u001b[0m\u001b[0;34m.\u001b[0m\u001b[0mimread\u001b[0m\u001b[0;34m(\u001b[0m\u001b[0mimage\u001b[0m\u001b[0;34m)\u001b[0m\u001b[0;34m.\u001b[0m\u001b[0mflatten\u001b[0m\u001b[0;34m(\u001b[0m\u001b[0;34m)\u001b[0m\u001b[0;34m\u001b[0m\u001b[0m\n\u001b[1;32m      5\u001b[0m     \u001b[0mphi\u001b[0m \u001b[0;34m=\u001b[0m \u001b[0marr\u001b[0m \u001b[0;34m-\u001b[0m \u001b[0mmean_vector\u001b[0m\u001b[0;34m\u001b[0m\u001b[0m\n",
      "\u001b[0;31mNameError\u001b[0m: name 'all_images' is not defined"
     ]
    }
   ],
   "source": [
    "\n",
    "projections = []\n",
    "for image in all_images:\n",
    "    arr = img.imread(image).flatten()\n",
    "    phi = arr - mean_vector\n",
    "    sigma = []\n",
    "    for i in range(0, k):\n",
    "        w = np.matmul(np.transpose(eigenspace[i]), phi)\n",
    "        sigma.append(w)\n",
    "    projections.append(sigma)\n",
    "\n",
    "test_path = r'./Test1'\n",
    "test_images = glob.glob(test_path + \"/*.jpg\")\n",
    "A = []\n",
    "\n",
    "imgs = []\n",
    "for test_image in test_images:\n",
    "    arr = img.imread(test_image).flatten()\n",
    "    phi = arr - mean_vector\n",
    "    sigma = []\n",
    "    for i in range(0, k):\n",
    "        w = np.matmul(np.transpose(eigenspace[i]), phi)\n",
    "        sigma.append(w)\n",
    "    x = 0\n",
    "    minimum = float('inf')\n",
    "    min_index = -1\n",
    "    for train_image in all_images:\n",
    "        similarity = np.linalg.norm(np.subtract(sigma, projections[x]))\n",
    "        if similarity < minimum:\n",
    "            minimum = similarity\n",
    "            min_index = x\n",
    "        x += 1\n",
    "\n",
    "    test_image_out = img.imread(test_image)\n",
    "    train_image_out = img.imread(all_images[min_index])\n",
    "    imgs.append((test_image_out, train_image_out))\n"
   ]
  },
  {
   "cell_type": "markdown",
   "metadata": {},
   "source": [
    "Display the results:"
   ]
  },
  {
   "cell_type": "code",
   "execution_count": null,
   "metadata": {},
   "outputs": [],
   "source": [
    "fig = plt.figure(figsize=(8, 8))\n",
    "columns = 12\n",
    "rows = 8\n",
    "for i in range(0, len(imgs), 2):\n",
    "    img1 = imgs[i][0]\n",
    "    img2 = imgs[i][1]\n",
    "    fig.add_subplot(rows, columns, i+1)\n",
    "    plt.imshow(img1)\n",
    "    plt.axis('off')\n",
    "    fig.add_subplot(rows, columns, i+2)\n",
    "    plt.imshow(img2)\n",
    "    plt.axis('off')\n",
    "\n",
    "plt.show()"
   ]
  },
  {
   "cell_type": "markdown",
   "metadata": {},
   "source": [
    "The face on the lefthand side is the input image, the face on the right is the closest match\n",
    "<img src=\"results.png\">"
   ]
  }
 ],
 "metadata": {
  "kernelspec": {
   "display_name": "Python 2",
   "language": "python",
   "name": "python2"
  },
  "language_info": {
   "codemirror_mode": {
    "name": "ipython",
    "version": 2
   },
   "file_extension": ".py",
   "mimetype": "text/x-python",
   "name": "python",
   "nbconvert_exporter": "python",
   "pygments_lexer": "ipython2",
   "version": "2.7.16"
  }
 },
 "nbformat": 4,
 "nbformat_minor": 2
}
